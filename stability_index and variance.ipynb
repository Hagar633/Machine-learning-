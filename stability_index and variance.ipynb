{
  "nbformat": 4,
  "nbformat_minor": 0,
  "metadata": {
    "colab": {
      "provenance": [],
      "authorship_tag": "ABX9TyMZfnK4wkeBvPjUs9wBuQ+N",
      "include_colab_link": true
    },
    "kernelspec": {
      "name": "python3",
      "display_name": "Python 3"
    },
    "language_info": {
      "name": "python"
    }
  },
  "cells": [
    {
      "cell_type": "markdown",
      "metadata": {
        "id": "view-in-github",
        "colab_type": "text"
      },
      "source": [
        "<a href=\"https://colab.research.google.com/github/Hagar633/Machine-learning-/blob/main/stability_index%20and%20variance.ipynb\" target=\"_parent\"><img src=\"https://colab.research.google.com/assets/colab-badge.svg\" alt=\"Open In Colab\"/></a>"
      ]
    },
    {
      "cell_type": "code",
      "execution_count": 25,
      "metadata": {
        "colab": {
          "base_uri": "https://localhost:8080/"
        },
        "id": "FsgmJB6-xvdy",
        "outputId": "a01b4331-9706-4eee-a7d0-4c9e555c4571"
      },
      "outputs": [
        {
          "output_type": "stream",
          "name": "stdout",
          "text": [
            "Total frames: 223\n",
            "stability is 0.011235955056179775\n",
            "stability is 0.26666666666666666\n",
            "stability is 0.17391304347826086\n",
            "stability is 0.36419753086419754\n",
            "stability is 0.002840909090909091\n",
            "stability is 0.49122807017543857\n",
            "stability is 0.03184713375796178\n",
            "stability is 0.7307692307692307\n",
            "stability is 0.014705882352941176\n",
            "stability is 0.6551724137931034\n",
            "stability is 0.008571428571428572\n",
            "stability is 1.3571428571428572\n",
            "stability is 0.02023121387283237\n",
            "stability is 0.2018348623853211\n",
            "stability is 0.19140625\n",
            "stability is 0.26356589147286824\n",
            "stability is 0.11077844311377245\n",
            "stability is 0.17253521126760563\n",
            "stability is 0.17164179104477612\n",
            "stability is 0.17753623188405798\n",
            "stability is 0.3081395348837209\n",
            "stability is 0.007042253521126761\n",
            "stability is 0.7410714285714286\n",
            "stability is 0.02391304347826087\n",
            "stability is 0.09770114942528736\n",
            "stability is 0.011363636363636364\n",
            "stability is 0.0069767441860465115\n",
            "stability is 0.5230769230769231\n",
            "stability is 0.014830508474576272\n",
            "stability is 0.6101694915254238\n",
            "stability is 0.2403846153846154\n",
            "stability is 0.09947643979057591\n",
            "Video saved to kid1_fin.mp4\n"
          ]
        }
      ],
      "source": [
        "from pickle import FRAME\n",
        "from google.colab.patches import cv2_imshow\n",
        "from decord import VideoReader\n",
        "import mediapipe as mp\n",
        "import cv2\n",
        "import numpy as np\n",
        "from matplotlib import pyplot as plt\n",
        "import statistics\n",
        "\n",
        "video_path = \"kid1.mp4\"\n",
        "vr = VideoReader(video_path)\n",
        "frame_count = len(vr)\n",
        "print(f\"Total frames: {frame_count}\")\n",
        "output_path = \"kid1_fin.mp4\"\n",
        "\n",
        "# Sample every 5 seconds (assuming 30 fps)\n",
        "fps = 7\n",
        "step = fps * 1\n",
        "mp_pose = mp.solutions.pose\n",
        "pose = mp_pose.Pose(static_image_mode=True)\n",
        "mp_draw = mp.solutions.drawing_utils\n",
        "\n",
        "sample_frame = vr[0].asnumpy()\n",
        "height, width, _ = sample_frame.shape\n",
        "fourcc = cv2.VideoWriter_fourcc(*'mp4v')\n",
        "out = cv2.VideoWriter(output_path, fourcc, fps, (width, height))\n",
        "\n",
        "norms = []\n",
        "for i in range(0, frame_count, step):\n",
        "\n",
        "    frame = vr[i].asnumpy()\n",
        "    rgb = cv2.cvtColor(frame , cv2.COLOR_BGR2RGB)\n",
        "    results = pose.process(rgb)\n",
        "    points = {}\n",
        "\n",
        "    if results.pose_landmarks:\n",
        "      h, w, _ = frame.shape\n",
        "      for id, lm in enumerate(results.pose_landmarks.landmark):\n",
        "        cx, cy = int(lm.x * w), int(lm.y * h)\n",
        "        if id == mp_pose.PoseLandmark.LEFT_ANKLE.value:\n",
        "           points[\"left_ankle\"] = (cx, cy)\n",
        "        elif id == mp_pose.PoseLandmark.RIGHT_ANKLE.value:\n",
        "            points[\"right_ankle\"] = (cx, cy)\n",
        "        elif id == mp_pose.PoseLandmark.LEFT_HIP.value:\n",
        "            points[\"left_hip\"] = (cx, cy)\n",
        "        elif id == mp_pose.PoseLandmark.RIGHT_HIP.value:\n",
        "            points[\"right_hip\"] = (cx, cy)\n",
        "        if id in [mp_pose.PoseLandmark.LEFT_ANKLE.value,\n",
        "                  mp_pose.PoseLandmark.RIGHT_ANKLE.value]:\n",
        "            cv2.circle(frame, (cx, cy), 5, (0, 255, 0), cv2.FILLED)\n",
        "\n",
        "    mp_draw.draw_landmarks(frame, results.pose_landmarks, mp_pose.POSE_CONNECTIONS)\n",
        "    com_x= (points[\"left_hip\"][0]+ points[\"right_hip\"][0])/2\n",
        "    com_y= (points[\"left_hip\"][1]+ points[\"right_hip\"][1])/2\n",
        "    foot_midx= (points[\"left_ankle\"][0]+  points[\"right_ankle\"][0])/2\n",
        "    foot_midy= (points[\"left_ankle\"][1]+  points[\"right_ankle\"][1])/2\n",
        "    stance_width= abs(points[\"left_ankle\"][0] -  points[\"right_ankle\"][0])\n",
        "    sway = abs(com_x - foot_midx)\n",
        "    norm= sway/stance_width\n",
        "    norms.append(norm)\n",
        "    if len(norms) > 1:\n",
        "      var = statistics.variance(norms)\n",
        "    print(\"stability is\" , norm)\n",
        "    cv2.putText(frame,\n",
        "            f\"Frame: {i} | Stability: {norm:.2f} | Variance: {var:.2f}\",\n",
        "            (10, 20),\n",
        "            cv2.FONT_HERSHEY_SIMPLEX,\n",
        "            0.5,\n",
        "            (0, 0, 200),\n",
        "            2,\n",
        "            cv2.LINE_AA)\n",
        "    out.write(frame)\n",
        "out.release()\n",
        "print(f\"Video saved to {output_path}\")\n",
        "# cv2.circle(image, (int(com_x), int(com_y)),  5, (0, 255, 255), cv2.FILLED)\n",
        "# Show result in Colab\n",
        "\n"
      ]
    }
  ]
}