{
  "nbformat": 4,
  "nbformat_minor": 0,
  "metadata": {
    "colab": {
      "provenance": [],
      "authorship_tag": "ABX9TyNO7tdsBLh43dMmz4n5eqiQ",
      "include_colab_link": true
    },
    "kernelspec": {
      "name": "python3",
      "display_name": "Python 3"
    },
    "language_info": {
      "name": "python"
    }
  },
  "cells": [
    {
      "cell_type": "markdown",
      "metadata": {
        "id": "view-in-github",
        "colab_type": "text"
      },
      "source": [
        "<a href=\"https://colab.research.google.com/github/Hagar633/Machine-learning-/blob/main/entityrecognition_structuredoutput.ipynb\" target=\"_parent\"><img src=\"https://colab.research.google.com/assets/colab-badge.svg\" alt=\"Open In Colab\"/></a>"
      ]
    },
    {
      "cell_type": "code",
      "execution_count": 10,
      "metadata": {
        "colab": {
          "base_uri": "https://localhost:8080/"
        },
        "id": "zR7U8yrmxvtk",
        "outputId": "87f9663e-0eea-43cc-ae2e-d8cbfc680c3c"
      },
      "outputs": [
        {
          "output_type": "stream",
          "name": "stdout",
          "text": [
            "Requirement already satisfied: gdown in /usr/local/lib/python3.12/dist-packages (5.2.0)\n",
            "Requirement already satisfied: beautifulsoup4 in /usr/local/lib/python3.12/dist-packages (from gdown) (4.13.5)\n",
            "Requirement already satisfied: filelock in /usr/local/lib/python3.12/dist-packages (from gdown) (3.19.1)\n",
            "Requirement already satisfied: requests[socks] in /usr/local/lib/python3.12/dist-packages (from gdown) (2.32.4)\n",
            "Requirement already satisfied: tqdm in /usr/local/lib/python3.12/dist-packages (from gdown) (4.67.1)\n",
            "Requirement already satisfied: soupsieve>1.2 in /usr/local/lib/python3.12/dist-packages (from beautifulsoup4->gdown) (2.8)\n",
            "Requirement already satisfied: typing-extensions>=4.0.0 in /usr/local/lib/python3.12/dist-packages (from beautifulsoup4->gdown) (4.15.0)\n",
            "Requirement already satisfied: charset_normalizer<4,>=2 in /usr/local/lib/python3.12/dist-packages (from requests[socks]->gdown) (3.4.3)\n",
            "Requirement already satisfied: idna<4,>=2.5 in /usr/local/lib/python3.12/dist-packages (from requests[socks]->gdown) (3.10)\n",
            "Requirement already satisfied: urllib3<3,>=1.21.1 in /usr/local/lib/python3.12/dist-packages (from requests[socks]->gdown) (2.5.0)\n",
            "Requirement already satisfied: certifi>=2017.4.17 in /usr/local/lib/python3.12/dist-packages (from requests[socks]->gdown) (2025.8.3)\n",
            "Requirement already satisfied: PySocks!=1.5.7,>=1.5.6 in /usr/local/lib/python3.12/dist-packages (from requests[socks]->gdown) (1.7.1)\n",
            "/usr/local/lib/python3.12/dist-packages/gdown/__main__.py:140: FutureWarning: Option `--id` was deprecated in version 4.3.1 and will be removed in 5.0. You don't need to pass it anymore to use a file ID.\n",
            "  warnings.warn(\n",
            "Downloading...\n",
            "From: https://drive.google.com/uc?id=1b1sacIfhxhstVniKpn2IFOqchJZf6vrU\n",
            "To: /content/my_audio.mp3\n",
            "100% 2.86M/2.86M [00:00<00:00, 141MB/s]\n"
          ]
        }
      ],
      "source": [
        "!pip install gdown\n",
        "\n",
        "FILE_ID = \"1b1sacIfhxhstVniKpn2IFOqchJZf6vrU\"\n",
        "!gdown --id $FILE_ID -O my_audio.mp3"
      ]
    },
    {
      "cell_type": "code",
      "source": [
        "!pip install -q openai-whisper\n",
        "\n",
        "\n",
        "import whisper\n",
        "\n",
        "model = whisper.load_model(\"base\")\n",
        "\n",
        "\n",
        "result = model.transcribe(\"/content/my_audio.mp3\")\n",
        "\n",
        "\n",
        "text = result[\"text\"]\n",
        "print(\"Transcript:\", text)\n",
        "\n",
        "\n",
        "\n",
        "%pip install -q -U \"google-genai>=1.0.0\"\n",
        "from google.colab import userdata\n",
        "from google import genai\n",
        "from pydantic import BaseModel\n",
        "GOOGLE_API_KEY = userdata.get('GOOGLE_API_KEY_1')\n",
        "\n",
        "client = genai.Client(api_key=GOOGLE_API_KEY)\n",
        "\n",
        "MODEL_ID = \"gemini-2.5-flash-lite\" # @param [\"gemini-2.5-flash-lite\",\"gemini-2.0-flash\",\"gemini-2.5-flash\",\"gemini-2.5-pro\"] {\"allow-input\":true, isTemplate: true}\n",
        "class opinion(BaseModel):\n",
        "  name:str\n",
        "  opinion:str\n",
        "#URL = \"/content/my_audio.mp3\"\n",
        "\n",
        "#!wget -q $URL -O test2.mp3\n",
        "#your_audio_file = client.files.upload(file='test2.mp3')\n",
        "\n",
        "response = client.models.generate_content(\n",
        "  model=MODEL_ID,\n",
        "  contents=[\n",
        "    f\"list the names and opinions from this text: {text}\"\n",
        "  ],config={\n",
        "        \"response_mime_type\": \"application/json\",\n",
        "        \"response_schema\": list[opinion],\n",
        "    },\n",
        ")\n",
        "\n",
        "print(response.text)"
      ],
      "metadata": {
        "colab": {
          "base_uri": "https://localhost:8080/"
        },
        "id": "CsHarFe0xyGq",
        "outputId": "e3e3d9f5-9368-4548-de9c-df27b32b2e9f"
      },
      "execution_count": 16,
      "outputs": [
        {
          "output_type": "stream",
          "name": "stdout",
          "text": [
            "[\n",
            "  {\n",
            "    \"name\": \"Martin Malabana\",\n",
            "    \"opinion\": \"I chose Lesan because of the community. Beautiful!\"\n",
            "  },\n",
            "  {\n",
            "    \"name\": \"Rowan Highland\",\n",
            "    \"opinion\": \"I chose Wesleyan because I never met a single Wesleyan student that I didn't like.\"\n",
            "  },\n",
            "  {\n",
            "    \"name\": \"Ali\",\n",
            "    \"opinion\": \"\"\n",
            "  },\n",
            "  {\n",
            "    \"name\": \"Noel Choi\",\n",
            "    \"opinion\": \"\"\n",
            "  },\n",
            "  {\n",
            "    \"name\": \"Mina\",\n",
            "    \"opinion\": \"I chose Lesan because I've the diversity and financial aid.\"\n",
            "  },\n",
            "  {\n",
            "    \"name\": \"Keen\",\n",
            "    \"opinion\": \"\"\n",
            "  },\n",
            "  {\n",
            "    \"name\": \"S.E. Pergren\",\n",
            "    \"opinion\": \"\"\n",
            "  },\n",
            "  {\n",
            "    \"name\": \"Ismet\",\n",
            "    \"opinion\": \"\"\n",
            "  },\n",
            "  {\n",
            "    \"name\": \"Morgan\",\n",
            "    \"opinion\": \"\"\n",
            "  },\n",
            "  {\n",
            "    \"name\": \"Catherine\",\n",
            "    \"opinion\": \"\"\n",
            "  },\n",
            "  {\n",
            "    \"name\": \"Max\",\n",
            "    \"opinion\": \"I chose Lesan because I like to combine stuff that don't go well together but produce nice results. And the reason why I chose Wesleyan was because of the very liberal art curriculum. It's one of the most diverse college in America. Why Wesleyan? Because in Wesleyan, dreams come true.\"\n",
            "  },\n",
            "  {\n",
            "    \"name\": \"Tanya\",\n",
            "    \"opinion\": \"\"\n",
            "  },\n",
            "  {\n",
            "    \"name\": \"Jordan Lem\",\n",
            "    \"opinion\": \"\"\n",
            "  },\n",
            "  {\n",
            "    \"name\": \"Inosene Machinere\",\n",
            "    \"opinion\": \"\"\n",
            "  },\n",
            "  {\n",
            "    \"name\": \"Jessica\",\n",
            "    \"opinion\": \"I chose Lesan because I like to vibe with the campus and people. I chose Lesan because my tour guide was pretty awesome.\"\n",
            "  },\n",
            "  {\n",
            "    \"name\": \"Riz\",\n",
            "    \"opinion\": \"\"\n",
            "  },\n",
            "  {\n",
            "    \"name\": \"Fernando\",\n",
            "    \"opinion\": \"\"\n",
            "  },\n",
            "  {\n",
            "    \"name\": \"Roxy\",\n",
            "    \"opinion\": \"Wesleyan is co-liever in the pendant and I love it. I chose Lesan because I think it is really great in terms of creativity and open mindless. And I think that's something very special to me and it should be to anyone who seeks to be a leader and someone who has good eye on the future.\"\n",
            "  }\n",
            "]\n"
          ]
        }
      ]
    },
    {
      "cell_type": "code",
      "source": [
        ":"
      ],
      "metadata": {
        "id": "vvtyTR-wN-dx"
      },
      "execution_count": null,
      "outputs": []
    }
  ]
}